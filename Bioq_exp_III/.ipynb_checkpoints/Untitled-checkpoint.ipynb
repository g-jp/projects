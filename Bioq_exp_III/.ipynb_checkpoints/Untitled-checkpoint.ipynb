{
 "cells": [
  {
   "cell_type": "code",
   "execution_count": 13,
   "id": "ae4e9483",
   "metadata": {
    "scrolled": false
   },
   "outputs": [
    {
     "data": {
      "text/html": [
       "<div>\n",
       "<style scoped>\n",
       "    .dataframe tbody tr th:only-of-type {\n",
       "        vertical-align: middle;\n",
       "    }\n",
       "\n",
       "    .dataframe tbody tr th {\n",
       "        vertical-align: top;\n",
       "    }\n",
       "\n",
       "    .dataframe thead th {\n",
       "        text-align: right;\n",
       "    }\n",
       "</style>\n",
       "<table border=\"1\" class=\"dataframe\">\n",
       "  <thead>\n",
       "    <tr style=\"text-align: right;\">\n",
       "      <th></th>\n",
       "      <th>raw_mass</th>\n",
       "      <th>peak_height</th>\n",
       "      <th>KEGG_mass(original)</th>\n",
       "      <th>npossible</th>\n",
       "      <th>KEGG_mass (Addukt)</th>\n",
       "      <th>ppm</th>\n",
       "      <th>KEGG_formula</th>\n",
       "      <th>KEGG_name</th>\n",
       "      <th>uniqueID</th>\n",
       "    </tr>\n",
       "    <tr>\n",
       "      <th>KEGG_cid</th>\n",
       "      <th></th>\n",
       "      <th></th>\n",
       "      <th></th>\n",
       "      <th></th>\n",
       "      <th></th>\n",
       "      <th></th>\n",
       "      <th></th>\n",
       "      <th></th>\n",
       "      <th></th>\n",
       "    </tr>\n",
       "  </thead>\n",
       "  <tbody>\n",
       "    <tr>\n",
       "      <th>C01010</th>\n",
       "      <td>105.02946</td>\n",
       "      <td>271524.0</td>\n",
       "      <td>104.022184</td>\n",
       "      <td>1(1)</td>\n",
       "      <td>105.029468</td>\n",
       "      <td>-0.080581</td>\n",
       "      <td>C2H4N2O3</td>\n",
       "      <td>Urea-1-carboxylate;Allophanate;Allophanic acid...</td>\n",
       "      <td>NaN</td>\n",
       "    </tr>\n",
       "    <tr>\n",
       "      <th>C00114</th>\n",
       "      <td>105.11489</td>\n",
       "      <td>244350.0</td>\n",
       "      <td>104.107614</td>\n",
       "      <td>1(2)</td>\n",
       "      <td>105.114816</td>\n",
       "      <td>0.708366</td>\n",
       "      <td>C5H14NO</td>\n",
       "      <td>Choline;Bilineurine ([M+H]+)</td>\n",
       "      <td>NaN</td>\n",
       "    </tr>\n",
       "    <tr>\n",
       "      <th>HMDB00097</th>\n",
       "      <td>105.11489</td>\n",
       "      <td>244350.0</td>\n",
       "      <td>104.107614</td>\n",
       "      <td>2(2)</td>\n",
       "      <td>105.114816</td>\n",
       "      <td>0.708366</td>\n",
       "      <td>C5H14NO</td>\n",
       "      <td>Choline (see KEGG C00114); 2-hydroxyethyl-trim...</td>\n",
       "      <td>NaN</td>\n",
       "    </tr>\n",
       "    <tr>\n",
       "      <th>C12218</th>\n",
       "      <td>108.94834</td>\n",
       "      <td>240255.0</td>\n",
       "      <td>107.941064</td>\n",
       "      <td>1(1)</td>\n",
       "      <td>108.948362</td>\n",
       "      <td>-0.201485</td>\n",
       "      <td>C2FeN2</td>\n",
       "      <td>Fe(CN)2;Iron cyanide (Fe(CN)2) ([M+H]+)</td>\n",
       "      <td>NaN</td>\n",
       "    </tr>\n",
       "    <tr>\n",
       "      <th>C06146</th>\n",
       "      <td>109.00509</td>\n",
       "      <td>310712.0</td>\n",
       "      <td>70.041931</td>\n",
       "      <td>1(2)</td>\n",
       "      <td>109.005024</td>\n",
       "      <td>0.603347</td>\n",
       "      <td>C4H6O</td>\n",
       "      <td>3-Butyn-1-ol ([M+K39]+)</td>\n",
       "      <td>NaN</td>\n",
       "    </tr>\n",
       "    <tr>\n",
       "      <th>...</th>\n",
       "      <td>...</td>\n",
       "      <td>...</td>\n",
       "      <td>...</td>\n",
       "      <td>...</td>\n",
       "      <td>...</td>\n",
       "      <td>...</td>\n",
       "      <td>...</td>\n",
       "      <td>...</td>\n",
       "      <td>...</td>\n",
       "    </tr>\n",
       "    <tr>\n",
       "      <th>LMST01010215</th>\n",
       "      <td>1254.39827</td>\n",
       "      <td>709557.0</td>\n",
       "      <td>1215.435111</td>\n",
       "      <td>4(4)</td>\n",
       "      <td>1254.397243</td>\n",
       "      <td>0.818786</td>\n",
       "      <td>C48H80N7O21P3S</td>\n",
       "      <td>3a,7a,12a,24-Tetrahydroxy-5b-cholestanoyl-CoA ...</td>\n",
       "      <td>NaN</td>\n",
       "    </tr>\n",
       "    <tr>\n",
       "      <th>HMDB11922</th>\n",
       "      <td>1275.82840</td>\n",
       "      <td>736362.0</td>\n",
       "      <td>1252.839179</td>\n",
       "      <td>1(1)</td>\n",
       "      <td>1275.827580</td>\n",
       "      <td>0.643057</td>\n",
       "      <td>C64H120N2O21</td>\n",
       "      <td>Ganglioside GM3 (d18:0/23:0) [acetal] ([M+Na]+)</td>\n",
       "      <td>NaN</td>\n",
       "    </tr>\n",
       "    <tr>\n",
       "      <th>C08982</th>\n",
       "      <td>1307.56669</td>\n",
       "      <td>716649.0</td>\n",
       "      <td>1268.603531</td>\n",
       "      <td>1(1)</td>\n",
       "      <td>1307.566886</td>\n",
       "      <td>-0.150253</td>\n",
       "      <td>C59H96O29</td>\n",
       "      <td>Soyasaponin A1 ([M+K39]+)</td>\n",
       "      <td>NaN</td>\n",
       "    </tr>\n",
       "    <tr>\n",
       "      <th>HMDB04852</th>\n",
       "      <td>1317.81617</td>\n",
       "      <td>739325.0</td>\n",
       "      <td>1278.853011</td>\n",
       "      <td>1(1)</td>\n",
       "      <td>1317.817168</td>\n",
       "      <td>-0.757581</td>\n",
       "      <td>C66H122N2O21</td>\n",
       "      <td>Ganglioside GM3 (d18:1/25:0) (see KEGG C04730)...</td>\n",
       "      <td>NaN</td>\n",
       "    </tr>\n",
       "    <tr>\n",
       "      <th>LMPK12010397</th>\n",
       "      <td>1326.32402</td>\n",
       "      <td>760480.0</td>\n",
       "      <td>1287.360861</td>\n",
       "      <td>1(1)</td>\n",
       "      <td>1326.324704</td>\n",
       "      <td>-0.516009</td>\n",
       "      <td>C59H67O32</td>\n",
       "      <td>Malvidin 3-O-[6-O-[4-O-[4-O-(6-O-caffeoyl-beta...</td>\n",
       "      <td>NaN</td>\n",
       "    </tr>\n",
       "  </tbody>\n",
       "</table>\n",
       "<p>9376 rows × 9 columns</p>\n",
       "</div>"
      ],
      "text/plain": [
       "                raw_mass  peak_height  KEGG_mass(original) npossible  \\\n",
       "KEGG_cid                                                               \n",
       "C01010         105.02946     271524.0           104.022184      1(1)   \n",
       "C00114         105.11489     244350.0           104.107614      1(2)   \n",
       "HMDB00097      105.11489     244350.0           104.107614      2(2)   \n",
       "C12218         108.94834     240255.0           107.941064      1(1)   \n",
       "C06146         109.00509     310712.0            70.041931      1(2)   \n",
       "...                  ...          ...                  ...       ...   \n",
       "LMST01010215  1254.39827     709557.0          1215.435111      4(4)   \n",
       "HMDB11922     1275.82840     736362.0          1252.839179      1(1)   \n",
       "C08982        1307.56669     716649.0          1268.603531      1(1)   \n",
       "HMDB04852     1317.81617     739325.0          1278.853011      1(1)   \n",
       "LMPK12010397  1326.32402     760480.0          1287.360861      1(1)   \n",
       "\n",
       "              KEGG_mass (Addukt)       ppm    KEGG_formula  \\\n",
       "KEGG_cid                                                     \n",
       "C01010                105.029468 -0.080581        C2H4N2O3   \n",
       "C00114                105.114816  0.708366         C5H14NO   \n",
       "HMDB00097             105.114816  0.708366         C5H14NO   \n",
       "C12218                108.948362 -0.201485          C2FeN2   \n",
       "C06146                109.005024  0.603347           C4H6O   \n",
       "...                          ...       ...             ...   \n",
       "LMST01010215         1254.397243  0.818786  C48H80N7O21P3S   \n",
       "HMDB11922            1275.827580  0.643057    C64H120N2O21   \n",
       "C08982               1307.566886 -0.150253       C59H96O29   \n",
       "HMDB04852            1317.817168 -0.757581    C66H122N2O21   \n",
       "LMPK12010397         1326.324704 -0.516009       C59H67O32   \n",
       "\n",
       "                                                      KEGG_name  uniqueID  \n",
       "KEGG_cid                                                                   \n",
       "C01010        Urea-1-carboxylate;Allophanate;Allophanic acid...       NaN  \n",
       "C00114                             Choline;Bilineurine ([M+H]+)       NaN  \n",
       "HMDB00097     Choline (see KEGG C00114); 2-hydroxyethyl-trim...       NaN  \n",
       "C12218                  Fe(CN)2;Iron cyanide (Fe(CN)2) ([M+H]+)       NaN  \n",
       "C06146                                  3-Butyn-1-ol ([M+K39]+)       NaN  \n",
       "...                                                         ...       ...  \n",
       "LMST01010215  3a,7a,12a,24-Tetrahydroxy-5b-cholestanoyl-CoA ...       NaN  \n",
       "HMDB11922       Ganglioside GM3 (d18:0/23:0) [acetal] ([M+Na]+)       NaN  \n",
       "C08982                                Soyasaponin A1 ([M+K39]+)       NaN  \n",
       "HMDB04852     Ganglioside GM3 (d18:1/25:0) (see KEGG C04730)...       NaN  \n",
       "LMPK12010397  Malvidin 3-O-[6-O-[4-O-[4-O-(6-O-caffeoyl-beta...       NaN  \n",
       "\n",
       "[9376 rows x 9 columns]"
      ]
     },
     "execution_count": 13,
     "metadata": {},
     "output_type": "execute_result"
    }
   ],
   "source": [
    "import pandas as pd\n",
    "\n",
    "%matplotlib inline\n",
    "\n",
    "from matplotlib import pyplot as plt\n",
    "\n",
    "import seaborn as sns\n",
    "\n",
    "from collections import Counter\n",
    "\n",
    "allmet = pd.read_csv('BY.tsv', sep = '\\t')\n",
    "\n",
    "allmet = allmet.set_index('KEGG_cid')\n",
    "\n",
    "allmet\n"
   ]
  },
  {
   "cell_type": "code",
   "execution_count": 34,
   "id": "6bb46f83",
   "metadata": {},
   "outputs": [
    {
     "name": "stderr",
     "output_type": "stream",
     "text": [
      "C:\\Users\\jpedr\\AppData\\Local\\Temp/ipykernel_36616/1183291822.py:1: FutureWarning: In a future version of pandas all arguments of Series.drop_duplicates will be keyword-only\n",
      "  glut = allmet.peak_height.C00051.drop_duplicates(1,'first')\n"
     ]
    },
    {
     "ename": "ValueError",
     "evalue": "For argument \"inplace\" expected type bool, received type str.",
     "output_type": "error",
     "traceback": [
      "\u001b[1;31m---------------------------------------------------------------------------\u001b[0m",
      "\u001b[1;31mValueError\u001b[0m                                Traceback (most recent call last)",
      "\u001b[1;32m~\\AppData\\Local\\Temp/ipykernel_36616/1183291822.py\u001b[0m in \u001b[0;36m<module>\u001b[1;34m\u001b[0m\n\u001b[1;32m----> 1\u001b[1;33m \u001b[0mglut\u001b[0m \u001b[1;33m=\u001b[0m \u001b[0mallmet\u001b[0m\u001b[1;33m.\u001b[0m\u001b[0mpeak_height\u001b[0m\u001b[1;33m.\u001b[0m\u001b[0mC00051\u001b[0m\u001b[1;33m.\u001b[0m\u001b[0mdrop_duplicates\u001b[0m\u001b[1;33m(\u001b[0m\u001b[1;36m1\u001b[0m\u001b[1;33m,\u001b[0m\u001b[1;34m'first'\u001b[0m\u001b[1;33m)\u001b[0m\u001b[1;33m\u001b[0m\u001b[1;33m\u001b[0m\u001b[0m\n\u001b[0m\u001b[0;32m      2\u001b[0m \u001b[1;33m\u001b[0m\u001b[0m\n\u001b[0;32m      3\u001b[0m \u001b[0mglut\u001b[0m\u001b[1;33m\u001b[0m\u001b[1;33m\u001b[0m\u001b[0m\n",
      "\u001b[1;32m~\\anaconda3\\lib\\site-packages\\pandas\\util\\_decorators.py\u001b[0m in \u001b[0;36mwrapper\u001b[1;34m(*args, **kwargs)\u001b[0m\n\u001b[0;32m    309\u001b[0m                     \u001b[0mstacklevel\u001b[0m\u001b[1;33m=\u001b[0m\u001b[0mstacklevel\u001b[0m\u001b[1;33m,\u001b[0m\u001b[1;33m\u001b[0m\u001b[1;33m\u001b[0m\u001b[0m\n\u001b[0;32m    310\u001b[0m                 )\n\u001b[1;32m--> 311\u001b[1;33m             \u001b[1;32mreturn\u001b[0m \u001b[0mfunc\u001b[0m\u001b[1;33m(\u001b[0m\u001b[1;33m*\u001b[0m\u001b[0margs\u001b[0m\u001b[1;33m,\u001b[0m \u001b[1;33m**\u001b[0m\u001b[0mkwargs\u001b[0m\u001b[1;33m)\u001b[0m\u001b[1;33m\u001b[0m\u001b[1;33m\u001b[0m\u001b[0m\n\u001b[0m\u001b[0;32m    312\u001b[0m \u001b[1;33m\u001b[0m\u001b[0m\n\u001b[0;32m    313\u001b[0m         \u001b[1;32mreturn\u001b[0m \u001b[0mwrapper\u001b[0m\u001b[1;33m\u001b[0m\u001b[1;33m\u001b[0m\u001b[0m\n",
      "\u001b[1;32m~\\anaconda3\\lib\\site-packages\\pandas\\core\\series.py\u001b[0m in \u001b[0;36mdrop_duplicates\u001b[1;34m(self, keep, inplace)\u001b[0m\n\u001b[0;32m   2131\u001b[0m         \u001b[0mName\u001b[0m\u001b[1;33m:\u001b[0m \u001b[0manimal\u001b[0m\u001b[1;33m,\u001b[0m \u001b[0mdtype\u001b[0m\u001b[1;33m:\u001b[0m \u001b[0mobject\u001b[0m\u001b[1;33m\u001b[0m\u001b[1;33m\u001b[0m\u001b[0m\n\u001b[0;32m   2132\u001b[0m         \"\"\"\n\u001b[1;32m-> 2133\u001b[1;33m         \u001b[0minplace\u001b[0m \u001b[1;33m=\u001b[0m \u001b[0mvalidate_bool_kwarg\u001b[0m\u001b[1;33m(\u001b[0m\u001b[0minplace\u001b[0m\u001b[1;33m,\u001b[0m \u001b[1;34m\"inplace\"\u001b[0m\u001b[1;33m)\u001b[0m\u001b[1;33m\u001b[0m\u001b[1;33m\u001b[0m\u001b[0m\n\u001b[0m\u001b[0;32m   2134\u001b[0m         \u001b[0mresult\u001b[0m \u001b[1;33m=\u001b[0m \u001b[0msuper\u001b[0m\u001b[1;33m(\u001b[0m\u001b[1;33m)\u001b[0m\u001b[1;33m.\u001b[0m\u001b[0mdrop_duplicates\u001b[0m\u001b[1;33m(\u001b[0m\u001b[0mkeep\u001b[0m\u001b[1;33m=\u001b[0m\u001b[0mkeep\u001b[0m\u001b[1;33m)\u001b[0m\u001b[1;33m\u001b[0m\u001b[1;33m\u001b[0m\u001b[0m\n\u001b[0;32m   2135\u001b[0m         \u001b[1;32mif\u001b[0m \u001b[0minplace\u001b[0m\u001b[1;33m:\u001b[0m\u001b[1;33m\u001b[0m\u001b[1;33m\u001b[0m\u001b[0m\n",
      "\u001b[1;32m~\\anaconda3\\lib\\site-packages\\pandas\\util\\_validators.py\u001b[0m in \u001b[0;36mvalidate_bool_kwarg\u001b[1;34m(value, arg_name, none_allowed, int_allowed)\u001b[0m\n\u001b[0;32m    244\u001b[0m \u001b[1;33m\u001b[0m\u001b[0m\n\u001b[0;32m    245\u001b[0m     \u001b[1;32mif\u001b[0m \u001b[1;32mnot\u001b[0m \u001b[0mgood_value\u001b[0m\u001b[1;33m:\u001b[0m\u001b[1;33m\u001b[0m\u001b[1;33m\u001b[0m\u001b[0m\n\u001b[1;32m--> 246\u001b[1;33m         raise ValueError(\n\u001b[0m\u001b[0;32m    247\u001b[0m             \u001b[1;34mf'For argument \"{arg_name}\" expected type bool, received '\u001b[0m\u001b[1;33m\u001b[0m\u001b[1;33m\u001b[0m\u001b[0m\n\u001b[0;32m    248\u001b[0m             \u001b[1;34mf\"type {type(value).__name__}.\"\u001b[0m\u001b[1;33m\u001b[0m\u001b[1;33m\u001b[0m\u001b[0m\n",
      "\u001b[1;31mValueError\u001b[0m: For argument \"inplace\" expected type bool, received type str."
     ]
    }
   ],
   "source": [
    "glut = allmet.peak_height.C00051.drop_duplicates(1,'first')\n",
    "\n",
    "glut\n"
   ]
  },
  {
   "cell_type": "code",
   "execution_count": 26,
   "id": "64587566",
   "metadata": {},
   "outputs": [
    {
     "data": {
      "text/plain": [
       "KEGG_cid\n",
       "C00051    Glutathione;5-L-Glutamyl-L-cysteinylglycine;N-...\n",
       "C00051    Glutathione;5-L-Glutamyl-L-cysteinylglycine;N-...\n",
       "C00051    Glutathione;5-L-Glutamyl-L-cysteinylglycine;N-...\n",
       "Name: KEGG_name, dtype: object"
      ]
     },
     "execution_count": 26,
     "metadata": {},
     "output_type": "execute_result"
    }
   ],
   "source": [
    "allmet.KEGG_name.C00051"
   ]
  },
  {
   "cell_type": "code",
   "execution_count": 31,
   "id": "b9a8f30e",
   "metadata": {},
   "outputs": [
    {
     "data": {
      "text/plain": [
       "KEGG_cid\n",
       "HMDB01045    172566000.0\n",
       "HMDB01045     34119500.0\n",
       "HMDB01045      1030520.0\n",
       "Name: peak_height, dtype: float64"
      ]
     },
     "execution_count": 31,
     "metadata": {},
     "output_type": "execute_result"
    }
   ],
   "source": [
    "enk = allmet.peak_height.HMDB01045.drop_duplicates(1,'first')\n",
    "enk\n"
   ]
  },
  {
   "cell_type": "code",
   "execution_count": 33,
   "id": "bc0bd1b0",
   "metadata": {},
   "outputs": [
    {
     "data": {
      "text/plain": [
       "KEGG_cid\n",
       "HMDB01045    Enkephalin L; (2S)-2-[[(2S)-2-[[2-[[2-[[(2S)-2...\n",
       "HMDB01045    Enkephalin L; (2S)-2-[[(2S)-2-[[2-[[2-[[(2S)-2...\n",
       "HMDB01045    Enkephalin L; (2S)-2-[[(2S)-2-[[2-[[2-[[(2S)-2...\n",
       "Name: KEGG_name, dtype: object"
      ]
     },
     "execution_count": 33,
     "metadata": {},
     "output_type": "execute_result"
    }
   ],
   "source": [
    "allmet.KEGG_name.HMDB01045\n"
   ]
  },
  {
   "cell_type": "code",
   "execution_count": null,
   "id": "6f72e658",
   "metadata": {},
   "outputs": [],
   "source": []
  }
 ],
 "metadata": {
  "kernelspec": {
   "display_name": "Python 3 (ipykernel)",
   "language": "python",
   "name": "python3"
  },
  "language_info": {
   "codemirror_mode": {
    "name": "ipython",
    "version": 3
   },
   "file_extension": ".py",
   "mimetype": "text/x-python",
   "name": "python",
   "nbconvert_exporter": "python",
   "pygments_lexer": "ipython3",
   "version": "3.9.7"
  }
 },
 "nbformat": 4,
 "nbformat_minor": 5
}
