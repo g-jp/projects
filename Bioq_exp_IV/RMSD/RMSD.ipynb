{
 "cells": [
  {
   "cell_type": "code",
   "execution_count": 1,
   "metadata": {},
   "outputs": [
    {
     "name": "stdout",
     "output_type": "stream",
     "text": [
      "[['43.729', '-1.868', '8.977'], ['40.567', '-0.840', '10.911'], ['38.437', '2.279', '11.338'], ['40.662', '3.614', '14.094'], ['43.923', '3.407', '12.185'], ['42.203', '4.776', '9.105'], ['40.872', '7.852', '10.912'], ['44.165', '8.321', '12.730'], ['45.886', '8.615', '9.365'], ['43.328', '11.094', '8.026'], ['43.009', '13.349', '11.074'], ['46.455', '13.147', '12.699'], ['46.905', '13.704', '16.470'], ['47.509', '17.072', '18.139'], ['47.621', '17.618', '21.900'], ['47.057', '21.414', '21.847'], ['43.998', '23.342', '20.506'], ['44.411', '23.887', '16.780'], ['42.412', '25.101', '13.843'], ['41.058', '22.509', '11.413'], ['41.015', '22.870', '7.647'], ['37.840', '25.032', '7.919'], ['39.437', '27.215', '10.563'], ['37.540', '25.716', '13.495'], ['38.901', '25.008', '16.927'], ['39.782', '21.286', '17.325'], ['41.917', '19.063', '19.427'], ['43.168', '15.422', '19.501'], ['42.162', '13.162', '16.629'], ['39.791', '15.534', '14.749'], ['37.509', '16.304', '17.720'], ['35.695', '19.580', '16.775'], ['35.346', '21.790', '19.787'], ['33.361', '24.764', '18.459'], ['32.545', '26.654', '15.294'], ['32.929', '29.844', '17.351'], ['35.767', '32.246', '16.654'], ['36.607', '32.629', '20.239'], ['39.518', '30.756', '21.610'], ['37.922', '31.168', '24.952'], ['34.745', '29.478', '23.884'], ['37.085', '26.603', '22.689'], ['38.923', '26.389', '25.952'], ['35.586', '26.238', '27.746'], ['34.234', '23.429', '25.567'], ['37.418', '21.548', '26.014'], ['37.320', '21.627', '29.779'], ['33.647', '20.622', '29.714'], ['34.537', '17.678', '27.397'], ['37.509', '16.436', '29.524'], ['36.239', '17.146', '32.990'], ['39.265', '19.200', '34.087'], ['40.944', '22.548', '33.631'], ['43.050', '21.826', '30.667'], ['44.262', '25.171', '29.615'], ['44.065', '24.172', '25.906'], ['46.190', '21.101', '26.285'], ['45.367', '17.376', '26.795'], ['47.201', '14.067', '27.129'], ['47.430', '11.169', '24.640'], ['45.071', '9.117', '26.754'], ['42.514', '11.969', '26.851'], ['42.813', '12.276', '23.046'], ['42.190', '8.604', '22.581'], ['39.241', '8.716', '24.888'], ['37.532', '11.473', '22.908'], ['38.379', '9.466', '19.784'], ['36.674', '6.312', '21.062'], ['33.527', '8.370', '21.909'], ['33.510', '10.003', '18.546'], ['33.811', '6.790', '16.528'], ['31.042', '5.154', '18.627'], ['28.796', '8.160', '18.204'], ['29.452', '8.163', '14.392'], ['28.487', '4.464', '14.164'], ['25.337', '4.894', '16.380'], ['24.330', '7.913', '14.374'], ['24.464', '5.972', '11.082'], ['22.394', '3.202', '12.629'], ['19.770', '5.692', '13.772'], ['19.584', '7.521', '10.533'], ['16.840', '6.433', '8.111'], ['18.828', '7.404', '5.102'], ['22.176', '6.032', '6.230'], ['21.232', '2.760', '7.853'], ['20.102', '0.934', '4.712'], ['23.316', '1.969', '2.929'], ['25.507', '0.742', '5.788'], ['23.620', '-2.540', '6.025'], ['24.113', '-3.127', '2.362'], ['27.869', '-2.686', '2.400'], ['30.863', '-4.988', '2.951'], ['33.220', '-4.459', '5.933'], ['35.802', '-2.253', '4.201'], ['33.244', '0.004', '2.561'], ['31.479', '0.383', '5.885'], ['34.644', '2.037', '7.166'], ['34.570', '4.532', '4.321'], ['31.065', '5.643', '5.237'], ['31.983', '5.937', '8.893'], ['34.948', '8.151', '7.862'], ['32.666', '10.542', '5.918'], ['30.270', '10.740', '8.891'], ['33.012', '11.457', '11.372'], ['34.311', '14.321', '9.138'], ['31.115', '15.864', '7.996'], ['28.345', '14.797', '10.244'], ['25.279', '12.584', '9.668'], ['23.316', '15.415', '8.196'], ['26.006', '16.290', '5.713'], ['26.524', '12.760', '4.391'], ['22.753', '12.164', '4.301'], ['22.725', '15.051', '1.808'], ['24.697', '12.961', '-0.778'], ['21.432', '11.438', '-2.042'], ['22.602', '10.308', '-5.442'], ['25.960', '8.823', '-4.325'], ['24.184', '6.977', '-1.529'], ['21.772', '5.382', '-4.013'], ['24.621', '4.334', '-6.220'], ['26.582', '2.808', '-3.370'], ['23.490', '0.897', '-2.335'], ['23.151', '-0.435', '-5.828'], ['26.834', '-1.403', '-5.843'], ['27.706', '0.768', '-8.823'], ['31.275', '1.440', '-7.610'], ['32.684', '3.416', '-10.480'], ['29.625', '5.575', '-10.808'], ['29.467', '6.429', '-7.161'], ['33.172', '7.399', '-7.158'], ['32.674', '9.826', '-9.985'], ['29.566', '11.350', '-8.291'], ['31.207', '11.681', '-4.879'], ['34.026', '13.757', '-6.471'], ['31.529', '16.410', '-7.576'], ['31.303', '18.001', '-4.172'], ['32.710', '20.844', '-2.122'], ['34.147', '18.064', '0.159'], ['36.362', '16.765', '-2.662'], ['37.446', '20.242', '-3.788'], ['38.273', '21.326', '-0.259'], ['40.218', '18.219', '1.037'], ['41.099', '16.372', '-2.196'], ['43.815', '14.010', '-0.841'], ['41.626', '12.714', '2.012'], ['38.543', '12.588', '-0.271'], ['40.513', '10.574', '-2.873'], ['41.556', '8.082', '-0.227'], ['37.891', '7.569', '0.940'], ['36.684', '7.458', '-2.649'], ['39.195', '4.737', '-3.629'], ['38.111', '2.766', '-0.631'], ['34.475', '2.836', '-1.883'], ['35.574', '2.132', '-5.414'], ['37.762', '-0.887', '-4.656'], ['36.631', '-2.219', '-1.362'], ['40.317', '-2.682', '-0.274'], ['42.680', '-0.673', '1.916'], ['45.086', '0.131', '-0.809'], ['44.793', '3.906', '-0.471'], ['45.923', '3.641', '3.057'], ['48.732', '1.277', '2.505']]\n"
     ]
    }
   ],
   "source": [
    "import pandas as pd\n",
    "import numpy as np\n",
    "\n",
    "fh = open('4lzm.pdb')\n",
    "\n",
    "position = []\n",
    "for line in fh:\n",
    "    if line.startswith('ATOM'):\n",
    "        position.append(line.strip())\n",
    "        #print(line)\n",
    "\n",
    "#print(position)\n",
    "\n",
    "C_alpha = []\n",
    "for element in position:\n",
    "    if 'CA' in element:\n",
    "        C_alpha.append(element)\n",
    "        #print(element)\n",
    "\n",
    "#print(C_alpha,'\\n',len(C_alpha))\n",
    "\n",
    "prot_coord = []\n",
    "for atom in C_alpha:\n",
    "    coordinates =[]\n",
    "    atom = atom.split(' ')\n",
    "    atom = [item.strip() for item in atom if item.strip()][-6:-3]   #if item.strip(): This checks if the stripped version of item is not an empty string. If item contains only whitespace, \n",
    "                                                                    #calling strip() will result in an empty string, which will evaluate to False in the if statement.\n",
    "    for element in atom:\n",
    "        if element.isnumeric:\n",
    "            coordinates.append(element)\n",
    "    prot_coord.append(coordinates)\n",
    "\n",
    "print(prot_coord)\n"
   ]
  },
  {
   "cell_type": "code",
   "execution_count": 2,
   "metadata": {},
   "outputs": [
    {
     "name": "stdout",
     "output_type": "stream",
     "text": [
      "<class 'float'>\n",
      "162\n",
      "0.16689401160949738\n"
     ]
    }
   ],
   "source": [
    "def coordinates(file):\n",
    "    fh = open(file)\n",
    "\n",
    "    position = []\n",
    "    for line in fh:\n",
    "        if line.startswith('ATOM'):\n",
    "            position.append(line.strip())\n",
    "            #print(line)\n",
    "\n",
    "    C_alpha = []\n",
    "    for element in position:\n",
    "        if 'CA' in element:\n",
    "            C_alpha.append(element)\n",
    "            #print(element)\n",
    "\n",
    "    prot_coord = []\n",
    "    for atom in C_alpha:\n",
    "        coordinates =[]\n",
    "        atom = atom.split(' ')\n",
    "        atom = [item.strip() for item in atom if item.strip()][-6:-3]   #if item.strip(): This checks if the stripped version of item is not an empty string. If item contains only whitespace, \n",
    "                                                                        #calling strip() will result in an empty string, which will evaluate to False in the if statement.\n",
    "        for element in atom:\n",
    "            if element.isnumeric:\n",
    "                coordinates.append(float(element))\n",
    "        prot_coord.append(np.array(coordinates))\n",
    "    return prot_coord\n",
    "\n",
    "p4lzm = coordinates('4lzm.pdb')\n",
    "p6lmz = coordinates('6lzm.pdb')\n",
    "\n",
    "values = []\n",
    "for m,n in zip(p4lzm,p6lmz):\n",
    "    dif_vec = (m - n)\n",
    "    module = (dif_vec[0]**2+dif_vec[1]**2+dif_vec[2]**2)**(1/2)\n",
    "    values.append(module)\n",
    "\n",
    "\n",
    "module_sq = [float(i)**2 for i in values]\n",
    "print(type(module_sq[0]))\n",
    "print(len(values))\n",
    "RMSD = (sum(module_sq)/len(values))**(1/2)\n",
    "print(RMSD)"
   ]
  },
  {
   "cell_type": "code",
   "execution_count": 48,
   "metadata": {},
   "outputs": [
    {
     "name": "stdout",
     "output_type": "stream",
     "text": [
      "{'ATOM': [], 'atom position': [], 'Type': [], 'Aminoacid': [], 'A': [], 'aa position': [], 'x': [], 'y': [], 'z': [], '1': [], 'number': [], 'Atom': []}\n",
      "162\n",
      "{'ALA': 16, 'ARG': 14, 'ASN': 12, 'ASP': 11, 'CYS': 3, 'GLU': 9, 'GLN': 6, 'GLY': 12, 'HIS': 2, 'ILE': 11, 'LEU': 16, 'LYS': 14, 'MET': 6, 'PHE': 6, 'PRO': 4, 'SER': 7, 'THR': 12, 'TRP': 4, 'TYR': 7, 'VAL': 10}\n",
      "dict_values([16, 14, 12, 11, 3, 9, 6, 12, 2, 11, 16, 14, 6, 6, 4, 7, 12, 4, 7, 10])\n"
     ]
    }
   ],
   "source": [
    "handle = [\n",
    "    'ALA', 'ARG', 'ASN', 'ASP', 'CYS', 'GLU', 'GLN', 'GLY', 'HIS', 'ILE',\n",
    "    'LEU', 'LYS', 'MET', 'PHE', 'PRO', 'SER', 'THR', 'TRP', 'TYR', 'VAL'\n",
    "]\n",
    "\n",
    "fh = open('alpha_C.txt')\n",
    "\n",
    "processer = []\n",
    "for line in fh:\n",
    "    if line.strip().endswith('C'):\n",
    "        processer.append(line)\n",
    "\n",
    "leu = []\n",
    "\n",
    "for entry in processer:\n",
    "    if 'LEU' in entry:\n",
    "        leu.append(entry)\n",
    "\n",
    "#print(f'The number of leucines in this protein is {len(entry)}, which accounts for {len(entry)*100/len(processer)}% of the aminoacids')\n",
    "\n",
    "final = len(processer[1].split())\n",
    "\n",
    "# Create a dictionary with the appropriate entries\n",
    "df_dict = dict()\n",
    "\n",
    "columns_title = [\n",
    "                'ATOM',\n",
    "                'atom position',\n",
    "                'Type',\n",
    "                'Aminoacid',\n",
    "                'A',\n",
    "                'aa position',\n",
    "                'x',\n",
    "                'y',\n",
    "                'z',\n",
    "                '1',\n",
    "                'number',\n",
    "                'Atom']\n",
    "\n",
    "for n in columns_title:\n",
    "    df_dict[n] = []\n",
    "print(df_dict)\n",
    "#Assing each value from the processed file into an entry\n",
    "\n",
    "for entry in processer:\n",
    "    sep = entry.split()\n",
    "    for x,y in zip(range(0,final),columns_title):\n",
    "        df_dict[y].append(sep[x])\n",
    "\n",
    "df = pd.DataFrame(df_dict)\n",
    "\n",
    "newdf = df.loc[:,['x','y','z']]\n",
    "\n",
    "def vector_module(row):\n",
    "    module = ((float(row['x'])**2+float(row['y'])**2+float(row['z'])**2)**(1/2))\n",
    "    return module\n",
    "\n",
    "def vector_array(row):\n",
    "    vector = np.array([row[n] for n in ['x','y','z']])\n",
    "    return vector\n",
    "\n",
    "newdf['Module'] = newdf.apply(vector_module,axis=1)\n",
    "newdf['Vectors'] = newdf.apply(vector_array, axis=1)\n",
    "\n",
    "aa_list = df['Aminoacid'].tolist()\n",
    "print(len(aa_list))\n",
    "counts = dict()\n",
    "for aminoacid in handle:\n",
    "    for entry in aa_list:\n",
    "        if aminoacid in entry:\n",
    "            if aminoacid not in counts:\n",
    "                counts[aminoacid] = 1\n",
    "            \n",
    "            if aminoacid in counts:\n",
    "                counts[aminoacid] += 1\n",
    "\n",
    "print(counts)\n",
    "\n",
    "print((counts.values()))"
   ]
  },
  {
   "cell_type": "markdown",
   "metadata": {},
   "source": [
    "## Hidden Markov Models"
   ]
  },
  {
   "cell_type": "code",
   "execution_count": 8,
   "metadata": {},
   "outputs": [
    {
     "name": "stderr",
     "output_type": "stream",
     "text": [
      "MultinomialHMM has undergone major changes. The previous version was implementing a CategoricalHMM (a special case of MultinomialHMM). This new implementation follows the standard definition for a Multinomial distribution (e.g. as in https://en.wikipedia.org/wiki/Multinomial_distribution). See these issues for details:\n",
      "https://github.com/hmmlearn/hmmlearn/issues/335\n",
      "https://github.com/hmmlearn/hmmlearn/issues/340\n"
     ]
    },
    {
     "name": "stdout",
     "output_type": "stream",
     "text": [
      "Predicted states: [0]\n",
      "Decoded states: (-209.56517535606667, array([0], dtype=int64))\n"
     ]
    }
   ],
   "source": [
    "from hmmlearn import hmm\n",
    "\n",
    "# Example data (replace with your own data)\n",
    "sequences = [[0, 1, 0, 1, 0], [1, 0, 1, 0, 1], [0, 0, 1, 1, 0]]\n",
    "\n",
    "# Create an HMM instance\n",
    "model = hmm.MultinomialHMM(n_components=2)  # You can adjust the number of states\n",
    "\n",
    "# Fit the model to the data\n",
    "model.fit(sequences)\n",
    "\n",
    "# Predict the most likely state sequence for a new observation sequence\n",
    "new_sequence = [[0, 1, 0, 0, 1]]\n",
    "predicted_states = model.predict(new_sequence)\n",
    "print(\"Predicted states:\", predicted_states)\n",
    "\n",
    "decoded_states = model.decode(new_sequence)\n",
    "print(\"Decoded states:\", decoded_states)\n",
    "\n"
   ]
  }
 ],
 "metadata": {
  "kernelspec": {
   "display_name": "base",
   "language": "python",
   "name": "python3"
  },
  "language_info": {
   "codemirror_mode": {
    "name": "ipython",
    "version": 3
   },
   "file_extension": ".py",
   "mimetype": "text/x-python",
   "name": "python",
   "nbconvert_exporter": "python",
   "pygments_lexer": "ipython3",
   "version": "3.11.4"
  },
  "orig_nbformat": 4
 },
 "nbformat": 4,
 "nbformat_minor": 2
}
