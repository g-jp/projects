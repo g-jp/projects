{
 "cells": [
  {
   "cell_type": "markdown",
   "metadata": {},
   "source": [
    "### Extrair as proteínas que interagem fisicamente com o NFkB através da base de dados APIS"
   ]
  },
  {
   "cell_type": "code",
   "execution_count": null,
   "metadata": {},
   "outputs": [],
   "source": [
    "import pandas as pd\n",
    "import numpy as np\n",
    "import matplotlib.pyplot as plt\n",
    "from scipy.stats import hypergeom\n",
    "\n",
    "def union(list1,list2):\n",
    "    union_list = []\n",
    "    for element in list1:\n",
    "        if element not in union_list:\n",
    "            union_list.append(element)\n",
    "    for element in list2:\n",
    "        if element not in union_list:\n",
    "            union_list.append(element)\n",
    "    return union_list\n",
    "\n",
    "def exception(list1,list2):\n",
    "    #logically substracts the second set from the first one (list1 - list2) with no repetition\n",
    "    exception_list = []\n",
    "    for element in list1:\n",
    "        if element not in list2:\n",
    "            if element not in exception_list:\n",
    "                exception_list.append(element)\n",
    "    return exception_list\n",
    "\n",
    "def intersection(list1,list2):\n",
    "    intersect = []\n",
    "    for element in list1:\n",
    "        if element in list2:\n",
    "            if element not in intersect:\n",
    "                intersect.append(element)\n",
    "    for element in list2:\n",
    "        if element in list1:\n",
    "            if element not in intersect:\n",
    "                intersect.append(element)\n",
    "    return intersect\n",
    "\n",
    "def unique(list1):\n",
    "    unique_list = []\n",
    "    for element in list1:\n",
    "        if element not in unique_list:\n",
    "            unique_list.append(element)\n",
    "    return unique_list"
   ]
  },
  {
   "cell_type": "markdown",
   "metadata": {},
   "source": [
    "## GRK: interações físicas"
   ]
  },
  {
   "cell_type": "code",
   "execution_count": 22,
   "metadata": {},
   "outputs": [
    {
     "name": "stdout",
     "output_type": "stream",
     "text": [
      "['GRK6', 'NFKBIA']\n"
     ]
    }
   ],
   "source": [
    "GRK5 = 'P34947'\n",
    "grk_interactors = []\n",
    "apid = pd.read_csv('9606_noISI_Q2.txt', sep='\\t')\n",
    "apid_grk_A = apid.loc[apid['UniprotID_B'] == GRK5].drop_duplicates(keep='first',subset=['UniprotID_A'])['GeneName_A'].tolist()\n",
    "apid_grk_B = apid.loc[apid['UniprotID_A'] == GRK5].drop_duplicates(keep='first',subset=['UniprotID_B'])['GeneName_B'].tolist()\n",
    "\n",
    "grk_interactors.append(apid_grk_A[0])\n",
    "grk_interactors.append(apid_grk_B[0])\n",
    "print(grk_interactors)\n"
   ]
  },
  {
   "cell_type": "markdown",
   "metadata": {},
   "source": [
    "## Experimental IV: enriquecimento funcional"
   ]
  },
  {
   "cell_type": "markdown",
   "metadata": {},
   "source": [
    "### Extrair as proteínas que são avlos de regulação do NFkB (i.e., cujo NFkB controla a atividade), maioritariamente através da tanscrição"
   ]
  },
  {
   "cell_type": "code",
   "execution_count": 2,
   "metadata": {},
   "outputs": [
    {
     "name": "stdout",
     "output_type": "stream",
     "text": [
      "O número de interações entre o NFKB e outras proteínas é 304\n"
     ]
    }
   ],
   "source": [
    "apid = pd.read_csv('9606_noISI_Q2.txt', sep='\\t')\n",
    "NFKB = ['P19838','Q04206']\n",
    "N1=apid.loc[apid['UniprotID_A'] == 'P19838'].drop_duplicates(keep='first',subset=['UniprotID_B'])['UniprotID_B'].tolist() #Lista de índices de proteínas que interagem com o NFKBI (p50)\n",
    "R1=apid.loc[apid['UniprotID_A'] == 'Q04206'].drop_duplicates(keep='first',subset=['UniprotID_B'])['UniprotID_B'].tolist() #Lista de índices de proteínas que interagem com o NFKBI (p65)\n",
    "\n",
    "linha_apid_1 = N1 + R1 #Lista com os indicadores uniprot de todas as proteínas que interagem com as duas subunidades do NFKB na coluna B\n",
    "\n",
    "#Obter a lista de proteínas que interagem com o NFKB:\n",
    "\n",
    "apid_interações_1 = apid.loc[(apid['UniprotID_B'].isin(linha_apid_1)) & (apid['UniprotID_A'].isin(NFKB))].drop_duplicates(keep='first',subset=['UniprotID_B']) #DataFrame indexado para obter apenas as proteínas que interagem com o NFkB\n",
    "#_____________________________________________________________\n",
    "N2=apid.loc[apid['UniprotID_B']=='P19838'].drop_duplicates(keep='first',subset=['UniprotID_A'])['UniprotID_A'].tolist()\n",
    "R2=apid.loc[apid['UniprotID_B']=='Q04206'].drop_duplicates(keep='first',subset=['UniprotID_A'])['UniprotID_A'].tolist()\n",
    "\n",
    "linha_apid_2 = N2 + R2 \n",
    "\n",
    "apid_interações_2 = apid.loc[(apid['UniprotID_A'].isin(linha_apid_2)) & (apid['UniprotID_B'].isin(NFKB))].drop_duplicates(keep='first',subset=['UniprotID_A'])\n",
    "#______________________________________________________________\n",
    "\n",
    "#print(len(linha_apid))\n",
    "linha_apid = union(linha_apid_1,linha_apid_2) #proteínas que interagem com NFkB \n",
    "apid_interações_2 = apid.loc[(apid['UniprotID_A'].isin(exception(linha_apid_2,linha_apid_1))) & (apid['UniprotID_B'].isin(NFKB))].drop_duplicates(keep='first',subset=['UniprotID_A']) #df com as proteínas que interagem com o NFKB que não aparecem em linhas_apid_1\n",
    "\n",
    "#print(len(linha_apid_2))\n",
    "#______________________________________________________________\n",
    "\n",
    "interações_apid = pd.merge(apid_interações_1,apid_interações_2,on=['UniprotID_A','UniprotID_B'],how='outer')\n",
    "selected = interações_apid[['UniprotID_A','UniprotID_B']].drop_duplicates(keep='first',subset=['UniprotID_A','UniprotID_B'])\n",
    "\n",
    "print(f'O número de interações entre o NFKB e outras proteínas é {len(linha_apid)}')"
   ]
  },
  {
   "cell_type": "code",
   "execution_count": 3,
   "metadata": {},
   "outputs": [],
   "source": [
    "omni = pd.read_csv('interactions_omni.txt', sep='\\t')\n",
    "omni = omni.loc[omni['is_directed']==1]\n",
    "target_omni_NFKBI = omni.loc[omni['source'] == NFKB[0]]['target'].tolist()\n",
    "target_omni_RELA = omni.loc[omni['source'] == NFKB[1]]['target'].tolist()\n",
    "\n",
    "\n",
    "#print(no_repeat)\n",
    "target_omni = union(target_omni_NFKBI,target_omni_RELA)\n",
    "#print(len(target_omni))\n",
    "\n",
    "#_______________________________________________________________________________\n",
    "\n",
    "dorothea = pd.read_csv('dorothea_AB.txt', sep='\\t')\n",
    "\n",
    "target_dorothea_NFKBI = dorothea.loc[dorothea['source'] == NFKB[0]]['target'].tolist()\n",
    "target_dorothea_RELA = dorothea.loc[dorothea['source'] == NFKB[1]]['target'].tolist()\n",
    "\n",
    "target_doro = union(target_dorothea_NFKBI,target_dorothea_RELA)\n",
    "#print(len(target_doro))\n",
    "alvos = union(target_omni,target_doro) # lista de proteínas que são reguladas pelo NFkB (maioritariamente através da transcrição)\n"
   ]
  },
  {
   "cell_type": "markdown",
   "metadata": {},
   "source": [
    "### Extrair a lista de proteínas que regulam o NFkB"
   ]
  },
  {
   "cell_type": "code",
   "execution_count": 4,
   "metadata": {},
   "outputs": [
    {
     "name": "stdout",
     "output_type": "stream",
     "text": [
      "['Q04206', 'Q13547', 'P41279', 'P19838', 'P25963', 'Q15653', 'P14921', 'O14920', 'Q15025', 'Q9Y6K9', 'O15111', 'P01100', 'P08047', 'P42224', 'P04150', 'P04637', 'P20749', 'P68400', 'Q96EB6', 'Q92793', 'Q9Y2K7', 'P38398']\n"
     ]
    }
   ],
   "source": [
    "source_omni_NFKBI = omni.loc[omni['target'] == NFKB[0]]['source'].tolist()\n",
    "source_omni_RELA = omni.loc[omni['target'] == NFKB[1]]['source'].tolist()\n",
    "\n",
    "source_omni = union(source_omni_NFKBI,source_omni_RELA)\n",
    "#________________________________________________________________\n",
    "\n",
    "source_dorothea_NFKBI = dorothea.loc[dorothea['target'] == NFKB[0]]['source'].tolist()\n",
    "source_dorothea_RELA = dorothea.loc[dorothea['target'] == NFKB[1]]['source'].tolist()\n",
    "\n",
    "source_dorothea = union(source_dorothea_NFKBI,source_dorothea_RELA)\n",
    "\n",
    "reguladores = union(source_omni,source_dorothea)\n",
    "\n",
    "# Intersecção da lista de reguladores e alvos\n",
    "\n",
    "alvos_e_reg = intersection(alvos,reguladores)           # Possíveis indicadores de retroação negativa\n",
    "alvos_e_interactores = intersection(linha_apid,alvos)   # Possíveis indicadores de retroação negativa (muitos interatores também são reguladores)\n",
    "interactores_e_reg = intersection(linha_apid,reguladores)\n",
    "#print(len(alvos_e_reg),len(reg_e_interactores),len(interactores_e_alvos))\n",
    "a_i_r = intersection(alvos_e_interactores,alvos_e_reg)  #proteínas que são, simultaneamente, alvos, reguladores e interatores do NFkB. Explorar!\n",
    "print(a_i_r)\n"
   ]
  },
  {
   "cell_type": "markdown",
   "metadata": {},
   "source": [
    "### Análise das interações obtidas a partir de um teste hipergeométrico\n",
    "\n",
    "Identificar se essas interações são \"normais\" para o conjunto de dados obtidos"
   ]
  },
  {
   "cell_type": "code",
   "execution_count": 5,
   "metadata": {},
   "outputs": [],
   "source": [
    "todos_apid = union(apid['UniprotID_A'].tolist(),apid['UniprotID_B'].tolist())"
   ]
  },
  {
   "cell_type": "code",
   "execution_count": 6,
   "metadata": {},
   "outputs": [],
   "source": [
    "#print(len(todos_apid))\n",
    "todos_omni = union(omni['source'].tolist(),omni['target'].tolist())\n",
    "todos_dorothea = union(dorothea['source'].tolist(),dorothea['target'].tolist())\n",
    "todos = union(union(todos_dorothea,todos_omni),todos_apid) # o universo do teste que será usado: todas as proteínas de todas as bases de dados consultadas\n",
    "#print(len(todos_omni),len(todos_dorothea),len(todos))"
   ]
  },
  {
   "cell_type": "code",
   "execution_count": 7,
   "metadata": {},
   "outputs": [
    {
     "name": "stdout",
     "output_type": "stream",
     "text": [
      "247 42 304 19147\n"
     ]
    }
   ],
   "source": [
    "t = len(todos)\n",
    "a = len(alvos)\n",
    "r = len(reguladores)\n",
    "i = len(linha_apid)\n",
    "a_i=len(alvos_e_interactores)\n",
    "a_r=len(alvos_e_reg)\n",
    "r_i=len(interactores_e_reg)\n",
    "\n",
    "print(a,a_i,i,t)"
   ]
  },
  {
   "cell_type": "markdown",
   "metadata": {},
   "source": [
    "### Calcular a probabilidade das intersecções obtidas ocorrerem para o universo t obtido\n",
    "A classe hypergeo cria um objeto cujas 'instance variables' são os parâmetros da distribuição hypergeométrica definidos pelo universo, total de 'bolas brancas' e de 'bolas retiradas'. O cálculo do p_value envolve encontrar a probabilidade para que haja tantas intersecções quantas as observadas (i.e., das n bolas retiradas, x serão brancas, sendo x o número de intersecções e n o número do conjunto de proteínas com maior elemento entre ambos a serem comparados) ou mais, i.e.:\n",
    "- p_value = P(X>=x) "
   ]
  },
  {
   "cell_type": "code",
   "execution_count": 8,
   "metadata": {},
   "outputs": [
    {
     "name": "stdout",
     "output_type": "stream",
     "text": [
      "The p_value for p_a_i is 4.952881556495031423205119583E-31, for p_a_r is 1.703591408486587656001120691E-34 and for 1.668784781679130923648604418E-63\n"
     ]
    }
   ],
   "source": [
    "from decimal import Decimal\n",
    "\n",
    "def factorial(n):\n",
    "    result = 1\n",
    "    for i in range(1, int(n)+1):\n",
    "        result *= i\n",
    "    return result\n",
    "\n",
    "def combination(x,y):\n",
    "    numerator = Decimal(factorial(x))\n",
    "    denominator = Decimal(factorial(y)*factorial(x-y))\n",
    "    comb = numerator/denominator\n",
    "    #comb = factorial(x)/(factorial(y)*factorial(x-y))\n",
    "    return comb\n",
    "\n",
    "# N bolas, b brancas, p = n-b pretas, r retiradas, x brancas das retiradas (evento favorável), r-x pretas das retiradas\n",
    "class hypergeo():\n",
    "    def __init__(self,total,white,drawn):\n",
    "        self.total = total\n",
    "        self.white = white\n",
    "        self.drawn = drawn\n",
    "\n",
    "    def mass_function(self,x,plot=True):\n",
    "        variable = np.arange(0,x+1,1)\n",
    "        probabilities = []\n",
    "        for number in variable:\n",
    "            probability = combination(self.white,number)*combination(self.total-self.white,self.drawn-number)/combination(self.total,self.drawn)\n",
    "            probabilities.append(probability)\n",
    "        if plot==False:\n",
    "            return probabilities\n",
    "        else:\n",
    "            f, ax = plt.subplots(1,1,figsize=(7,5))\n",
    "            return ax.bar(variable,probabilities)\n",
    "\n",
    "    def p_val(self,x,lower_tail=False):\n",
    "        #Calculates the upper tail probability for a given set of values (P(X>=x))\n",
    "        if lower_tail == False:\n",
    "            variable = np.arange(x,self.white+1,1)\n",
    "            probabilities = (combination(self.white,number)*combination(self.total-self.white,self.drawn-number)/combination(self.total,self.drawn) for number in variable)\n",
    "            return sum(probabilities)\n",
    "        else:\n",
    "        #Calculates the lower tail probability for a given set of values (P(X<x)). DOES NOT include the x value.\n",
    "            variable = np.arange(0,x,1)\n",
    "            probabilities = (combination(self.white,number)*combination(self.total-self.white,self.drawn-number)/combination(self.total,self.drawn) for number in variable)\n",
    "            return sum(probabilities)\n",
    "\n",
    "#p = hypergeo(20,7,12).p_val(4+1,lower_tail=True)\n",
    "\n",
    "p_a_i = hypergeo(t,a,i).p_val(a_i)\n",
    "p_a_r = hypergeo(t,a,r).p_val(a_r)\n",
    "p_r_i = hypergeo(t,r,i).p_val(r_i)\n",
    "\n",
    "print(f'The p_value for p_a_i is {p_a_i}, for p_a_r is {p_a_r} and for {p_r_i}')"
   ]
  },
  {
   "cell_type": "code",
   "execution_count": 9,
   "metadata": {},
   "outputs": [
    {
     "name": "stdout",
     "output_type": "stream",
     "text": [
      "The p_value for p_a_i is 4.952881556495031423205119583E-31, for p_a_r is 1.703591408486587656001120691E-34 and for p_r_i is 1.668784781679130923648604418E-63\n"
     ]
    }
   ],
   "source": [
    "print(f'The p_value for p_a_i is {p_a_i}, for p_a_r is {p_a_r} and for p_r_i is {p_r_i}')"
   ]
  }
 ],
 "metadata": {
  "kernelspec": {
   "display_name": "Python 3 (ipykernel)",
   "language": "python",
   "name": "python3"
  },
  "language_info": {
   "codemirror_mode": {
    "name": "ipython",
    "version": 3
   },
   "file_extension": ".py",
   "mimetype": "text/x-python",
   "name": "python",
   "nbconvert_exporter": "python",
   "pygments_lexer": "ipython3",
   "version": "3.11.4"
  },
  "vscode": {
   "interpreter": {
    "hash": "1c0e22491d37f29e12dbbed1764984b5047c336fcb37effe27c9c012a2ac9d2b"
   }
  }
 },
 "nbformat": 4,
 "nbformat_minor": 4
}
